{
 "cells": [
  {
   "cell_type": "code",
   "execution_count": 3,
   "metadata": {
    "collapsed": false
   },
   "outputs": [
    {
     "name": "stdout",
     "output_type": "stream",
     "text": [
      "5756783e0290577e3e02905660061c020005de08\n",
      "5756783e029057c03e02905668143a30004c8000000157ff06b76a\n",
      "5756783e029056823e02905792\n"
     ]
    }
   ],
   "source": [
    "%matplotlib inline\n",
    "import matplotlib\n",
    "import numpy as np\n",
    "import omni_decode as omni\n",
    "\n",
    "sample_rate = 2048000      # sample rate of sdr\n",
    "samples_per_bit = 50.4185  # This was computed based on previously seen data.\n",
    "\n",
    "samples = np.fromfile('fsksignal.dat',dtype=np.float32)\n",
    "packets_offsets = omni.find_offsets(samples,samples_per_bit)\n",
    "\n",
    "for po in packets_offsets:\n",
    "    packet_samples = samples[slice(*po)]\n",
    "    bytes = omni.decode_packet(packet_samples, samples_per_bit)\n",
    "    print \"\".join([format(n, '02x') for n in bytes])\n"
   ]
  },
  {
   "cell_type": "code",
   "execution_count": null,
   "metadata": {
    "collapsed": true
   },
   "outputs": [],
   "source": []
  }
 ],
 "metadata": {
  "kernelspec": {
   "display_name": "Python 2",
   "language": "python",
   "name": "python2"
  },
  "language_info": {
   "codemirror_mode": {
    "name": "ipython",
    "version": 2
   },
   "file_extension": ".py",
   "mimetype": "text/x-python",
   "name": "python",
   "nbconvert_exporter": "python",
   "pygments_lexer": "ipython2",
   "version": "2.7.11"
  }
 },
 "nbformat": 4,
 "nbformat_minor": 0
}
